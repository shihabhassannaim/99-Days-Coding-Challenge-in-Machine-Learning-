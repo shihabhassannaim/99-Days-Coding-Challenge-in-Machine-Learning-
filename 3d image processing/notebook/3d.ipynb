{
 "cells": [
  {
   "cell_type": "code",
   "execution_count": 2,
   "metadata": {},
   "outputs": [],
   "source": [
    "import os\n",
    "import nibabel as nib\n",
    "import numpy as np"
   ]
  },
  {
   "cell_type": "code",
   "execution_count": 3,
   "metadata": {},
   "outputs": [],
   "source": [
    "folder_path = '/home/shihab/Desktop/Machine Learning/Dataset/3dImageDataset'\n",
    "slices = []\n"
   ]
  },
  {
   "cell_type": "code",
   "execution_count": 4,
   "metadata": {},
   "outputs": [],
   "source": [
    "for filename in sorted(os.listdir(folder_path)):\n",
    "    if filename.endswith('.nii'):  # Ensure the file is a NIfTI file\n",
    "        img_path = os.path.join(folder_path, filename)\n",
    "        img = nib.load(img_path)      # Load the .nii file with nibabel\n",
    "        data = img.get_fdata()        # Get the image data as a numpy array\n",
    "        slices.append(data)"
   ]
  },
  {
   "cell_type": "code",
   "execution_count": 5,
   "metadata": {},
   "outputs": [
    {
     "name": "stdout",
     "output_type": "stream",
     "text": [
      "(6, 366, 238, 364)\n"
     ]
    }
   ],
   "source": [
    "full_data = np.stack(slices, axis=0)  \n",
    "print(full_data.shape)"
   ]
  },
  {
   "cell_type": "code",
   "execution_count": null,
   "metadata": {},
   "outputs": [],
   "source": []
  }
 ],
 "metadata": {
  "kernelspec": {
   "display_name": "Python 3",
   "language": "python",
   "name": "python3"
  },
  "language_info": {
   "codemirror_mode": {
    "name": "ipython",
    "version": 3
   },
   "file_extension": ".py",
   "mimetype": "text/x-python",
   "name": "python",
   "nbconvert_exporter": "python",
   "pygments_lexer": "ipython3",
   "version": "3.10.12"
  }
 },
 "nbformat": 4,
 "nbformat_minor": 2
}
