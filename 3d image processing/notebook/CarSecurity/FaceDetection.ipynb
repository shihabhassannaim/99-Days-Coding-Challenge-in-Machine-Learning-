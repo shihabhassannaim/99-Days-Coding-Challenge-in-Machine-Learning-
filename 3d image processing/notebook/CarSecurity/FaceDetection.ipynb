{
 "cells": [
  {
   "cell_type": "code",
   "execution_count": 1,
   "metadata": {},
   "outputs": [],
   "source": [
    "import pandas as pd"
   ]
  },
  {
   "cell_type": "code",
   "execution_count": 6,
   "metadata": {},
   "outputs": [],
   "source": [
    "df = pd.read_csv(\"/home/shihab/Desktop/Machine Learning/Dataset/Car Detection System Dataset/10) CAN-Intrusion Dataset/Attack_free_dataset.txt\")"
   ]
  },
  {
   "cell_type": "code",
   "execution_count": 8,
   "metadata": {},
   "outputs": [
    {
     "data": {
      "text/plain": [
       "<bound method NDFrame.head of         Timestamp:          0.000000        ID: 0316    000    DLC: 8    05 20 ea 0a 20 1a 00 7f\n",
       "0        Timestamp:          0.000224        ID: 0329  ...                                      \n",
       "1        Timestamp:          0.000462        ID: 0080  ...                                      \n",
       "2        Timestamp:          0.000704        ID: 0081  ...                                      \n",
       "3        Timestamp:          0.000878        ID: 0120  ...                                      \n",
       "4        Timestamp:          0.001115        ID: 0153  ...                                      \n",
       "...                                                    ...                                      \n",
       "2369392  Timestamp:       1037.589395        ID: 0044  ...                                      \n",
       "2369393  Timestamp:       1037.589628        ID: 0165  ...                                      \n",
       "2369394  Timestamp:       1037.589812        ID: 02b0  ...                                      \n",
       "2369395  Timestamp:       1037.590065        ID: 04b0  ...                                      \n",
       "2369396  Timestamp:       1037.590316        ID: 0164  ...                                      \n",
       "\n",
       "[2369397 rows x 1 columns]>"
      ]
     },
     "execution_count": 8,
     "metadata": {},
     "output_type": "execute_result"
    }
   ],
   "source": [
    "df.head"
   ]
  },
  {
   "cell_type": "code",
   "execution_count": null,
   "metadata": {},
   "outputs": [],
   "source": []
  }
 ],
 "metadata": {
  "kernelspec": {
   "display_name": "Python 3",
   "language": "python",
   "name": "python3"
  },
  "language_info": {
   "codemirror_mode": {
    "name": "ipython",
    "version": 3
   },
   "file_extension": ".py",
   "mimetype": "text/x-python",
   "name": "python",
   "nbconvert_exporter": "python",
   "pygments_lexer": "ipython3",
   "version": "3.10.12"
  }
 },
 "nbformat": 4,
 "nbformat_minor": 2
}
