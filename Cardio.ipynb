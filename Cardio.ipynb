{
  "cells": [
    {
      "cell_type": "markdown",
      "metadata": {
        "id": "view-in-github",
        "colab_type": "text"
      },
      "source": [
        "<a href=\"https://colab.research.google.com/github/shihabhassannaim/99-Days-Coding-Challenge-in-Machine-Learning-/blob/main/Cardio.ipynb\" target=\"_parent\"><img src=\"https://colab.research.google.com/assets/colab-badge.svg\" alt=\"Open In Colab\"/></a>"
      ]
    },
    {
      "cell_type": "code",
      "execution_count": null,
      "metadata": {
        "colab": {
          "base_uri": "https://localhost:8080/"
        },
        "id": "Pwzjn9reBv1p",
        "outputId": "f18a73d4-2bea-4e5d-a9bd-5e9462d33c88"
      },
      "outputs": [
        {
          "output_type": "stream",
          "name": "stdout",
          "text": [
            "Mounted at /content/drive\n"
          ]
        }
      ],
      "source": [
        "from google.colab import drive\n",
        "drive.mount('/content/drive')"
      ]
    },
    {
      "cell_type": "markdown",
      "source": [
        "# data = pd.read_csv('/content/drive/MyDrive/Machine Learning/cardio.csv')\n",
        "\n",
        "```\n",
        "# This is formatted as code\n",
        "```\n",
        "\n"
      ],
      "metadata": {
        "id": "eWOEP9TlDmNc"
      }
    },
    {
      "cell_type": "code",
      "execution_count": null,
      "metadata": {
        "id": "p-a_KCNvD5UA"
      },
      "outputs": [],
      "source": [
        "data.head()"
      ]
    },
    {
      "cell_type": "code",
      "execution_count": null,
      "metadata": {
        "id": "tsqg0cmOD_PX"
      },
      "outputs": [],
      "source": [
        "data.isnull().sum()"
      ]
    },
    {
      "cell_type": "code",
      "execution_count": null,
      "metadata": {
        "id": "V1x1ycaXEOML"
      },
      "outputs": [],
      "source": [
        "data.info()"
      ]
    },
    {
      "cell_type": "code",
      "execution_count": null,
      "metadata": {
        "id": "aiC0X7tXETl-"
      },
      "outputs": [],
      "source": [
        "data.min()"
      ]
    },
    {
      "cell_type": "code",
      "execution_count": null,
      "metadata": {
        "id": "jlU3wTSTGf_-"
      },
      "outputs": [],
      "source": [
        "data.max()"
      ]
    },
    {
      "cell_type": "code",
      "execution_count": null,
      "metadata": {
        "id": "APcIP-_vGjlX"
      },
      "outputs": [],
      "source": [
        "data.std()"
      ]
    },
    {
      "cell_type": "code",
      "execution_count": null,
      "metadata": {
        "id": "3hpKoFFBGs9m"
      },
      "outputs": [],
      "source": [
        "data.mean()"
      ]
    },
    {
      "cell_type": "code",
      "execution_count": null,
      "metadata": {
        "id": "FaHW_CqSbF9F"
      },
      "outputs": [],
      "source": [
        "dataFinal = data.fillna(data.height.mean())\n"
      ]
    },
    {
      "cell_type": "code",
      "execution_count": null,
      "metadata": {
        "id": "x2S4zBc4QdYz"
      },
      "outputs": [],
      "source": [
        "dataFinal.hist()"
      ]
    },
    {
      "cell_type": "code",
      "execution_count": null,
      "metadata": {
        "id": "752x6bYdQZLN"
      },
      "outputs": [],
      "source": []
    },
    {
      "cell_type": "code",
      "execution_count": null,
      "metadata": {
        "id": "6T-AD9HtHHGu"
      },
      "outputs": [],
      "source": [
        "dataFinal = data.fillna(data.height.mean())"
      ]
    },
    {
      "cell_type": "markdown",
      "metadata": {
        "id": "GBMh5WvtG8J8"
      },
      "source": [
        "dataFinal.isnull().sum()"
      ]
    },
    {
      "cell_type": "code",
      "execution_count": null,
      "metadata": {
        "id": "b3CfBUADzF_4"
      },
      "outputs": [],
      "source": [
        "dataFinal.isnull().sum()"
      ]
    },
    {
      "cell_type": "code",
      "execution_count": null,
      "metadata": {
        "id": "SoSc92pXyfb_"
      },
      "outputs": [],
      "source": [
        "dataFinal.info()"
      ]
    },
    {
      "cell_type": "code",
      "execution_count": null,
      "metadata": {
        "id": "Qmbt-_CczU1y"
      },
      "outputs": [],
      "source": [
        "from sklearn.preprocessing import StandardScaler\n",
        "\n",
        "scaler_S = StandardScaler()\n",
        "data_S = scaler_S.fit_transform(dataFinal)\n",
        "scaler_data_S = pd.DataFrame(data_S,columns=dataFinal.columns)\n",
        "\n",
        "scaler_data_S.head()"
      ]
    },
    {
      "cell_type": "code",
      "execution_count": null,
      "metadata": {
        "id": "5xG9mjrWRDKw"
      },
      "outputs": [],
      "source": [
        "scaler_data_S.hist()"
      ]
    },
    {
      "cell_type": "code",
      "execution_count": null,
      "metadata": {
        "id": "UO3izCl_RjxL"
      },
      "outputs": [],
      "source": [
        "from sklearn.preprocessing import MinMaxScaler\n",
        "\n",
        "scaler = MinMaxScaler()\n",
        "data = scaler.fit_transform(dataFinal)\n",
        "scaler_data = pd.DataFrame(data,columns=dataFinal.columns)\n",
        "scaler_data.info()"
      ]
    },
    {
      "cell_type": "code",
      "execution_count": null,
      "metadata": {
        "id": "rtUscHIdRu4K"
      },
      "outputs": [],
      "source": [
        "scaler_data.head()"
      ]
    },
    {
      "cell_type": "code",
      "execution_count": null,
      "metadata": {
        "id": "TgmvLyURaKON"
      },
      "outputs": [],
      "source": [
        "X=scaler_data.drop('cardio',axis=1)\n",
        "y=scaler_data['cardio']\n",
        "print(y)"
      ]
    },
    {
      "cell_type": "code",
      "execution_count": null,
      "metadata": {
        "id": "cPzpSo4yb8FJ"
      },
      "outputs": [],
      "source": [
        "X.shape"
      ]
    },
    {
      "cell_type": "code",
      "execution_count": null,
      "metadata": {
        "id": "Y40395CZcJNn"
      },
      "outputs": [],
      "source": [
        "X.head()"
      ]
    },
    {
      "cell_type": "code",
      "execution_count": null,
      "metadata": {
        "id": "XewexAQGcovY"
      },
      "outputs": [],
      "source": [
        "from sklearn.model_selection import train_test_split\n",
        "X_train,X_test,Y_train,Y_test=train_test_split(X,y,test_size=0.20,random_state=10)"
      ]
    },
    {
      "cell_type": "code",
      "execution_count": null,
      "metadata": {
        "id": "LORGmUH-dVjh"
      },
      "outputs": [],
      "source": [
        "import matplotlib.pyplot as plt\n",
        "import seaborn as sns\n",
        "plt.figure(figsize = (20, 10))\n",
        "sns.heatmap(dataFinal.corr(), annot = True, cmap=\"winter\")"
      ]
    },
    {
      "cell_type": "code",
      "source": [
        "from sklearn.metrics import confusion_matrix ,classification_report\n",
        "from sklearn.naive_bayes import GaussianNB\n"
      ],
      "metadata": {
        "id": "wEnCGa1sEsx_"
      },
      "execution_count": null,
      "outputs": []
    },
    {
      "cell_type": "code",
      "source": [
        "from sklearn.ensemble import RandomForestClassifier\n",
        "from sklearn.metrics import confusion_matrix ,classification_report\n",
        "\n",
        "random_classifire = RandomForestClassifier(max_depth=100 , random_state= 43)\n",
        "random_fit = random_classifire.fit(X_train , Y_train)\n",
        "\n",
        "random_predict = random_fit.predict(X_test)\n",
        "random_validate = confusion_matrix(Y_test , random_predict)\n",
        "\n",
        "print(random_validate)\n",
        "\n",
        "random_classification_report = classification_report(Y_test , random_predict)\n",
        "print(random_classification_report)"
      ],
      "metadata": {
        "id": "9r3O7GgSHuQT"
      },
      "execution_count": null,
      "outputs": []
    },
    {
      "cell_type": "markdown",
      "source": [
        "from sklearn.linear_model import LogisticRegression\n",
        "from sklearn.metrics import confusion_matrix ,classification_report\n",
        "\n",
        "name = LogisticRegression(random_state=42)\n",
        "fit = name.fit(X_train , Y_train)\n",
        "\n",
        "predict = fit.predict(X_test)\n",
        "validate = confusion_matrix(Y_test , predict)\n",
        "\n",
        "print(validate)\n",
        "\n",
        "report = classification_report(Y_test , predict)\n",
        "print(report)\n"
      ],
      "metadata": {
        "id": "M5SokA4wLMbc"
      }
    },
    {
      "cell_type": "code",
      "source": [
        "from sklearn.neighbors import KNeighborsClassifier\n",
        "from sklearn.metrics import confusion_matrix ,classification_report\n",
        "\n",
        "kn= KNeighborsClassifier(n_neighbors=5, metric='minkowski', p=2)\n",
        "kn_fit = kn.fit(X_train , Y_train)\n",
        "kn_predict = kn_fit.predict(X_test)\n",
        "kn_validate = confusion_matrix(Y_test , kn_predict)\n",
        "kn_report = classification_report(Y_test , kn_predict)\n",
        "print(kn_report)"
      ],
      "metadata": {
        "id": "ni7AD14gNCT2"
      },
      "execution_count": null,
      "outputs": []
    },
    {
      "cell_type": "code",
      "source": [],
      "metadata": {
        "id": "R38hl6RKOS-v"
      },
      "execution_count": null,
      "outputs": []
    }
  ],
  "metadata": {
    "colab": {
      "provenance": [],
      "authorship_tag": "ABX9TyMLwlJB6V3JNgvzdTCLjQns",
      "include_colab_link": true
    },
    "kernelspec": {
      "display_name": "Python 3",
      "name": "python3"
    },
    "language_info": {
      "name": "python"
    }
  },
  "nbformat": 4,
  "nbformat_minor": 0
}